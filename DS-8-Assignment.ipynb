{
 "cells": [
  {
   "cell_type": "markdown",
   "metadata": {
    "button": false,
    "new_sheet": false,
    "run_control": {
     "read_only": false
    }
   },
   "source": [
    "<p style=\"text-align:center\">\n",
    "    <a href=\"https://skills.network/?utm_medium=Exinfluencer&utm_source=Exinfluencer&utm_content=000026UJ&utm_term=10006555&utm_id=NA-SkillsNetwork-Channel-SkillsNetworkCoursesIBMDeveloperSkillsNetworkML0101ENSkillsNetwork1047-2023-01-01\">\n",
    "    <img src=\"https://cf-courses-data.s3.us.cloud-object-storage.appdomain.cloud/assets/logos/SN_web_lightmode.png\" width=\"200\" alt=\"Skills Network Logo\"  />\n",
    "    </a>\n",
    "</p>\n",
    "\n",
    "\n",
    "# Classification with Python\n",
    "\n",
    "\n",
    "Estimated time needed: **25** minutes\n",
    "    \n",
    "\n",
    "## Objectives\n",
    "\n",
    "After completing this lab you will be able to:\n",
    "\n",
    "* Confidently create classification models\n"
   ]
  },
  {
   "cell_type": "markdown",
   "metadata": {
    "button": false,
    "new_sheet": false,
    "run_control": {
     "read_only": false
    }
   },
   "source": [
    "In this notebook we try to practice all the classification algorithms that we learned in this course.\n",
    "\n",
    "We load a dataset using Pandas library, apply the following algorithms, and find the best one for this specific dataset by accuracy evaluation methods.\n",
    "\n",
    "Let's first load required libraries:\n"
   ]
  },
  {
   "cell_type": "code",
   "execution_count": 96,
   "metadata": {
    "button": false,
    "new_sheet": false,
    "run_control": {
     "read_only": false
    },
    "tags": []
   },
   "outputs": [],
   "source": [
    "import itertools\n",
    "import numpy as np\n",
    "import matplotlib.pyplot as plt\n",
    "from matplotlib.ticker import NullFormatter\n",
    "import pandas as pd\n",
    "import numpy as np\n",
    "import matplotlib.ticker as ticker\n",
    "from sklearn import preprocessing\n",
    "\n",
    "from sklearn.metrics import f1_score\n",
    "\n",
    "%matplotlib inline\n",
    "\n",
    "import warnings\n",
    "warnings.filterwarnings('ignore')\n",
    "\n"
   ]
  },
  {
   "cell_type": "markdown",
   "metadata": {
    "button": false,
    "new_sheet": false,
    "run_control": {
     "read_only": false
    }
   },
   "source": [
    "### About dataset\n"
   ]
  },
  {
   "cell_type": "markdown",
   "metadata": {
    "button": false,
    "new_sheet": false,
    "run_control": {
     "read_only": false
    }
   },
   "source": [
    "This dataset is about the performance of basketball teams. The __cbb.csv__ data set includes performance data about five seasons of 354 basketball teams. It includes the following fields:\n",
    "\n",
    "| Field          | Description                                                                           |\n",
    "|----------------|---------------------------------------------------------------------------------------|\n",
    "|TEAM |\tThe Division I college basketball school|\n",
    "|CONF|\tThe Athletic Conference in which the school participates in (A10 = Atlantic 10, ACC = Atlantic Coast Conference, AE = America East, Amer = American, ASun = ASUN, B10 = Big Ten, B12 = Big 12, BE = Big East, BSky = Big Sky, BSth = Big South, BW = Big West, CAA = Colonial Athletic Association, CUSA = Conference USA, Horz = Horizon League, Ivy = Ivy League, MAAC = Metro Atlantic Athletic Conference, MAC = Mid-American Conference, MEAC = Mid-Eastern Athletic Conference, MVC = Missouri Valley Conference, MWC = Mountain West, NEC = Northeast Conference, OVC = Ohio Valley Conference, P12 = Pac-12, Pat = Patriot League, SB = Sun Belt, SC = Southern Conference, SEC = South Eastern Conference, Slnd = Southland Conference, Sum = Summit League, SWAC = Southwestern Athletic Conference, WAC = Western Athletic Conference, WCC = West Coast Conference)|\n",
    "|G|\tNumber of games played|\n",
    "|W|\tNumber of games won|\n",
    "|ADJOE|\tAdjusted Offensive Efficiency (An estimate of the offensive efficiency (points scored per 100 possessions) a team would have against the average Division I defense)|\n",
    "|ADJDE|\tAdjusted Defensive Efficiency (An estimate of the defensive efficiency (points allowed per 100 possessions) a team would have against the average Division I offense)|\n",
    "|BARTHAG|\tPower Rating (Chance of beating an average Division I team)|\n",
    "|EFG_O|\tEffective Field Goal Percentage Shot|\n",
    "|EFG_D|\tEffective Field Goal Percentage Allowed|\n",
    "|TOR|\tTurnover Percentage Allowed (Turnover Rate)|\n",
    "|TORD|\tTurnover Percentage Committed (Steal Rate)|\n",
    "|ORB|\tOffensive Rebound Percentage|\n",
    "|DRB|\tDefensive Rebound Percentage|\n",
    "|FTR|\tFree Throw Rate (How often the given team shoots Free Throws)|\n",
    "|FTRD|\tFree Throw Rate Allowed|\n",
    "|2P_O|\tTwo-Point Shooting Percentage|\n",
    "|2P_D|\tTwo-Point Shooting Percentage Allowed|\n",
    "|3P_O|\tThree-Point Shooting Percentage|\n",
    "|3P_D|\tThree-Point Shooting Percentage Allowed|\n",
    "|ADJ_T|\tAdjusted Tempo (An estimate of the tempo (possessions per 40 minutes) a team would have against the team that wants to play at an average Division I tempo)|\n",
    "|WAB|\tWins Above Bubble (The bubble refers to the cut off between making the NCAA March Madness Tournament and not making it)|\n",
    "|POSTSEASON|\tRound where the given team was eliminated or where their season ended (R68 = First Four, R64 = Round of 64, R32 = Round of 32, S16 = Sweet Sixteen, E8 = Elite Eight, F4 = Final Four, 2ND = Runner-up, Champion = Winner of the NCAA March Madness Tournament for that given year)|\n",
    "|SEED|\tSeed in the NCAA March Madness Tournament|\n",
    "|YEAR|\tSeason\n"
   ]
  },
  {
   "cell_type": "markdown",
   "metadata": {
    "button": false,
    "new_sheet": false,
    "run_control": {
     "read_only": false
    }
   },
   "source": [
    "### Load Data From CSV File  \n"
   ]
  },
  {
   "cell_type": "markdown",
   "metadata": {
    "button": false,
    "new_sheet": false,
    "run_control": {
     "read_only": false
    }
   },
   "source": [
    "Let's load the dataset [NB Need to provide link to csv file]\n"
   ]
  },
  {
   "cell_type": "code",
   "execution_count": 97,
   "metadata": {
    "button": false,
    "new_sheet": false,
    "run_control": {
     "read_only": false
    },
    "tags": []
   },
   "outputs": [
    {
     "data": {
      "text/html": [
       "<div>\n",
       "<style scoped>\n",
       "    .dataframe tbody tr th:only-of-type {\n",
       "        vertical-align: middle;\n",
       "    }\n",
       "\n",
       "    .dataframe tbody tr th {\n",
       "        vertical-align: top;\n",
       "    }\n",
       "\n",
       "    .dataframe thead th {\n",
       "        text-align: right;\n",
       "    }\n",
       "</style>\n",
       "<table border=\"1\" class=\"dataframe\">\n",
       "  <thead>\n",
       "    <tr style=\"text-align: right;\">\n",
       "      <th></th>\n",
       "      <th>TEAM</th>\n",
       "      <th>CONF</th>\n",
       "      <th>G</th>\n",
       "      <th>W</th>\n",
       "      <th>ADJOE</th>\n",
       "      <th>ADJDE</th>\n",
       "      <th>BARTHAG</th>\n",
       "      <th>EFG_O</th>\n",
       "      <th>EFG_D</th>\n",
       "      <th>TOR</th>\n",
       "      <th>...</th>\n",
       "      <th>FTRD</th>\n",
       "      <th>2P_O</th>\n",
       "      <th>2P_D</th>\n",
       "      <th>3P_O</th>\n",
       "      <th>3P_D</th>\n",
       "      <th>ADJ_T</th>\n",
       "      <th>WAB</th>\n",
       "      <th>POSTSEASON</th>\n",
       "      <th>SEED</th>\n",
       "      <th>YEAR</th>\n",
       "    </tr>\n",
       "  </thead>\n",
       "  <tbody>\n",
       "    <tr>\n",
       "      <th>0</th>\n",
       "      <td>North Carolina</td>\n",
       "      <td>ACC</td>\n",
       "      <td>40</td>\n",
       "      <td>33</td>\n",
       "      <td>123.3</td>\n",
       "      <td>94.9</td>\n",
       "      <td>0.9531</td>\n",
       "      <td>52.6</td>\n",
       "      <td>48.1</td>\n",
       "      <td>15.4</td>\n",
       "      <td>...</td>\n",
       "      <td>30.4</td>\n",
       "      <td>53.9</td>\n",
       "      <td>44.6</td>\n",
       "      <td>32.7</td>\n",
       "      <td>36.2</td>\n",
       "      <td>71.7</td>\n",
       "      <td>8.6</td>\n",
       "      <td>2ND</td>\n",
       "      <td>1.0</td>\n",
       "      <td>2016</td>\n",
       "    </tr>\n",
       "    <tr>\n",
       "      <th>1</th>\n",
       "      <td>Villanova</td>\n",
       "      <td>BE</td>\n",
       "      <td>40</td>\n",
       "      <td>35</td>\n",
       "      <td>123.1</td>\n",
       "      <td>90.9</td>\n",
       "      <td>0.9703</td>\n",
       "      <td>56.1</td>\n",
       "      <td>46.7</td>\n",
       "      <td>16.3</td>\n",
       "      <td>...</td>\n",
       "      <td>30.0</td>\n",
       "      <td>57.4</td>\n",
       "      <td>44.1</td>\n",
       "      <td>36.2</td>\n",
       "      <td>33.9</td>\n",
       "      <td>66.7</td>\n",
       "      <td>8.9</td>\n",
       "      <td>Champions</td>\n",
       "      <td>2.0</td>\n",
       "      <td>2016</td>\n",
       "    </tr>\n",
       "    <tr>\n",
       "      <th>2</th>\n",
       "      <td>Notre Dame</td>\n",
       "      <td>ACC</td>\n",
       "      <td>36</td>\n",
       "      <td>24</td>\n",
       "      <td>118.3</td>\n",
       "      <td>103.3</td>\n",
       "      <td>0.8269</td>\n",
       "      <td>54.0</td>\n",
       "      <td>49.5</td>\n",
       "      <td>15.3</td>\n",
       "      <td>...</td>\n",
       "      <td>26.0</td>\n",
       "      <td>52.9</td>\n",
       "      <td>46.5</td>\n",
       "      <td>37.4</td>\n",
       "      <td>36.9</td>\n",
       "      <td>65.5</td>\n",
       "      <td>2.3</td>\n",
       "      <td>E8</td>\n",
       "      <td>6.0</td>\n",
       "      <td>2016</td>\n",
       "    </tr>\n",
       "    <tr>\n",
       "      <th>3</th>\n",
       "      <td>Virginia</td>\n",
       "      <td>ACC</td>\n",
       "      <td>37</td>\n",
       "      <td>29</td>\n",
       "      <td>119.9</td>\n",
       "      <td>91.0</td>\n",
       "      <td>0.9600</td>\n",
       "      <td>54.8</td>\n",
       "      <td>48.4</td>\n",
       "      <td>15.1</td>\n",
       "      <td>...</td>\n",
       "      <td>33.4</td>\n",
       "      <td>52.6</td>\n",
       "      <td>46.3</td>\n",
       "      <td>40.3</td>\n",
       "      <td>34.7</td>\n",
       "      <td>61.9</td>\n",
       "      <td>8.6</td>\n",
       "      <td>E8</td>\n",
       "      <td>1.0</td>\n",
       "      <td>2016</td>\n",
       "    </tr>\n",
       "    <tr>\n",
       "      <th>4</th>\n",
       "      <td>Kansas</td>\n",
       "      <td>B12</td>\n",
       "      <td>37</td>\n",
       "      <td>32</td>\n",
       "      <td>120.9</td>\n",
       "      <td>90.4</td>\n",
       "      <td>0.9662</td>\n",
       "      <td>55.7</td>\n",
       "      <td>45.1</td>\n",
       "      <td>17.8</td>\n",
       "      <td>...</td>\n",
       "      <td>37.3</td>\n",
       "      <td>52.7</td>\n",
       "      <td>43.4</td>\n",
       "      <td>41.3</td>\n",
       "      <td>32.5</td>\n",
       "      <td>70.1</td>\n",
       "      <td>11.6</td>\n",
       "      <td>E8</td>\n",
       "      <td>1.0</td>\n",
       "      <td>2016</td>\n",
       "    </tr>\n",
       "  </tbody>\n",
       "</table>\n",
       "<p>5 rows × 24 columns</p>\n",
       "</div>"
      ],
      "text/plain": [
       "             TEAM CONF   G   W  ADJOE  ADJDE  BARTHAG  EFG_O  EFG_D   TOR  \\\n",
       "0  North Carolina  ACC  40  33  123.3   94.9   0.9531   52.6   48.1  15.4   \n",
       "1       Villanova   BE  40  35  123.1   90.9   0.9703   56.1   46.7  16.3   \n",
       "2      Notre Dame  ACC  36  24  118.3  103.3   0.8269   54.0   49.5  15.3   \n",
       "3        Virginia  ACC  37  29  119.9   91.0   0.9600   54.8   48.4  15.1   \n",
       "4          Kansas  B12  37  32  120.9   90.4   0.9662   55.7   45.1  17.8   \n",
       "\n",
       "   ...  FTRD  2P_O  2P_D  3P_O  3P_D  ADJ_T   WAB  POSTSEASON  SEED  YEAR  \n",
       "0  ...  30.4  53.9  44.6  32.7  36.2   71.7   8.6         2ND   1.0  2016  \n",
       "1  ...  30.0  57.4  44.1  36.2  33.9   66.7   8.9   Champions   2.0  2016  \n",
       "2  ...  26.0  52.9  46.5  37.4  36.9   65.5   2.3          E8   6.0  2016  \n",
       "3  ...  33.4  52.6  46.3  40.3  34.7   61.9   8.6          E8   1.0  2016  \n",
       "4  ...  37.3  52.7  43.4  41.3  32.5   70.1  11.6          E8   1.0  2016  \n",
       "\n",
       "[5 rows x 24 columns]"
      ]
     },
     "execution_count": 97,
     "metadata": {},
     "output_type": "execute_result"
    }
   ],
   "source": [
    "df = pd.read_csv('https://cf-courses-data.s3.us.cloud-object-storage.appdomain.cloud/IBMDeveloperSkillsNetwork-ML0101EN-SkillsNetwork/labs/Module%206/cbb.csv')\n",
    "df.head()"
   ]
  },
  {
   "cell_type": "code",
   "execution_count": 98,
   "metadata": {
    "tags": []
   },
   "outputs": [
    {
     "data": {
      "text/plain": [
       "(1406, 24)"
      ]
     },
     "execution_count": 98,
     "metadata": {},
     "output_type": "execute_result"
    }
   ],
   "source": [
    "df.shape"
   ]
  },
  {
   "cell_type": "markdown",
   "metadata": {},
   "source": [
    "## Add Column\n",
    "Next we'll add a column that will contain \"true\" if the wins above bubble are over 7 and \"false\" if not. We'll call this column Win Index or \"windex\" for short. \n"
   ]
  },
  {
   "cell_type": "code",
   "execution_count": 99,
   "metadata": {
    "tags": []
   },
   "outputs": [],
   "source": [
    "df['windex'] = np.where(df.WAB > 7, 'True', 'False')"
   ]
  },
  {
   "cell_type": "markdown",
   "metadata": {
    "button": false,
    "new_sheet": false,
    "run_control": {
     "read_only": false
    }
   },
   "source": [
    "# Data visualization and pre-processing\n",
    "\n"
   ]
  },
  {
   "cell_type": "markdown",
   "metadata": {
    "button": false,
    "new_sheet": false,
    "run_control": {
     "read_only": false
    }
   },
   "source": [
    "Next we'll filter the data set to the teams that made the Sweet Sixteen, the Elite Eight, and the Final Four in the post season. We'll also create a new dataframe that will hold the values with the new column.\n"
   ]
  },
  {
   "cell_type": "code",
   "execution_count": 100,
   "metadata": {
    "tags": []
   },
   "outputs": [
    {
     "data": {
      "text/html": [
       "<div>\n",
       "<style scoped>\n",
       "    .dataframe tbody tr th:only-of-type {\n",
       "        vertical-align: middle;\n",
       "    }\n",
       "\n",
       "    .dataframe tbody tr th {\n",
       "        vertical-align: top;\n",
       "    }\n",
       "\n",
       "    .dataframe thead th {\n",
       "        text-align: right;\n",
       "    }\n",
       "</style>\n",
       "<table border=\"1\" class=\"dataframe\">\n",
       "  <thead>\n",
       "    <tr style=\"text-align: right;\">\n",
       "      <th></th>\n",
       "      <th>TEAM</th>\n",
       "      <th>CONF</th>\n",
       "      <th>G</th>\n",
       "      <th>W</th>\n",
       "      <th>ADJOE</th>\n",
       "      <th>ADJDE</th>\n",
       "      <th>BARTHAG</th>\n",
       "      <th>EFG_O</th>\n",
       "      <th>EFG_D</th>\n",
       "      <th>TOR</th>\n",
       "      <th>...</th>\n",
       "      <th>2P_O</th>\n",
       "      <th>2P_D</th>\n",
       "      <th>3P_O</th>\n",
       "      <th>3P_D</th>\n",
       "      <th>ADJ_T</th>\n",
       "      <th>WAB</th>\n",
       "      <th>POSTSEASON</th>\n",
       "      <th>SEED</th>\n",
       "      <th>YEAR</th>\n",
       "      <th>windex</th>\n",
       "    </tr>\n",
       "  </thead>\n",
       "  <tbody>\n",
       "    <tr>\n",
       "      <th>2</th>\n",
       "      <td>Notre Dame</td>\n",
       "      <td>ACC</td>\n",
       "      <td>36</td>\n",
       "      <td>24</td>\n",
       "      <td>118.3</td>\n",
       "      <td>103.3</td>\n",
       "      <td>0.8269</td>\n",
       "      <td>54.0</td>\n",
       "      <td>49.5</td>\n",
       "      <td>15.3</td>\n",
       "      <td>...</td>\n",
       "      <td>52.9</td>\n",
       "      <td>46.5</td>\n",
       "      <td>37.4</td>\n",
       "      <td>36.9</td>\n",
       "      <td>65.5</td>\n",
       "      <td>2.3</td>\n",
       "      <td>E8</td>\n",
       "      <td>6.0</td>\n",
       "      <td>2016</td>\n",
       "      <td>False</td>\n",
       "    </tr>\n",
       "    <tr>\n",
       "      <th>3</th>\n",
       "      <td>Virginia</td>\n",
       "      <td>ACC</td>\n",
       "      <td>37</td>\n",
       "      <td>29</td>\n",
       "      <td>119.9</td>\n",
       "      <td>91.0</td>\n",
       "      <td>0.9600</td>\n",
       "      <td>54.8</td>\n",
       "      <td>48.4</td>\n",
       "      <td>15.1</td>\n",
       "      <td>...</td>\n",
       "      <td>52.6</td>\n",
       "      <td>46.3</td>\n",
       "      <td>40.3</td>\n",
       "      <td>34.7</td>\n",
       "      <td>61.9</td>\n",
       "      <td>8.6</td>\n",
       "      <td>E8</td>\n",
       "      <td>1.0</td>\n",
       "      <td>2016</td>\n",
       "      <td>True</td>\n",
       "    </tr>\n",
       "    <tr>\n",
       "      <th>4</th>\n",
       "      <td>Kansas</td>\n",
       "      <td>B12</td>\n",
       "      <td>37</td>\n",
       "      <td>32</td>\n",
       "      <td>120.9</td>\n",
       "      <td>90.4</td>\n",
       "      <td>0.9662</td>\n",
       "      <td>55.7</td>\n",
       "      <td>45.1</td>\n",
       "      <td>17.8</td>\n",
       "      <td>...</td>\n",
       "      <td>52.7</td>\n",
       "      <td>43.4</td>\n",
       "      <td>41.3</td>\n",
       "      <td>32.5</td>\n",
       "      <td>70.1</td>\n",
       "      <td>11.6</td>\n",
       "      <td>E8</td>\n",
       "      <td>1.0</td>\n",
       "      <td>2016</td>\n",
       "      <td>True</td>\n",
       "    </tr>\n",
       "    <tr>\n",
       "      <th>5</th>\n",
       "      <td>Oregon</td>\n",
       "      <td>P12</td>\n",
       "      <td>37</td>\n",
       "      <td>30</td>\n",
       "      <td>118.4</td>\n",
       "      <td>96.2</td>\n",
       "      <td>0.9163</td>\n",
       "      <td>52.3</td>\n",
       "      <td>48.9</td>\n",
       "      <td>16.1</td>\n",
       "      <td>...</td>\n",
       "      <td>52.6</td>\n",
       "      <td>46.1</td>\n",
       "      <td>34.4</td>\n",
       "      <td>36.2</td>\n",
       "      <td>69.0</td>\n",
       "      <td>6.7</td>\n",
       "      <td>E8</td>\n",
       "      <td>1.0</td>\n",
       "      <td>2016</td>\n",
       "      <td>False</td>\n",
       "    </tr>\n",
       "    <tr>\n",
       "      <th>6</th>\n",
       "      <td>Syracuse</td>\n",
       "      <td>ACC</td>\n",
       "      <td>37</td>\n",
       "      <td>23</td>\n",
       "      <td>111.9</td>\n",
       "      <td>93.6</td>\n",
       "      <td>0.8857</td>\n",
       "      <td>50.0</td>\n",
       "      <td>47.3</td>\n",
       "      <td>18.1</td>\n",
       "      <td>...</td>\n",
       "      <td>47.2</td>\n",
       "      <td>48.1</td>\n",
       "      <td>36.0</td>\n",
       "      <td>30.7</td>\n",
       "      <td>65.5</td>\n",
       "      <td>-0.3</td>\n",
       "      <td>F4</td>\n",
       "      <td>10.0</td>\n",
       "      <td>2016</td>\n",
       "      <td>False</td>\n",
       "    </tr>\n",
       "  </tbody>\n",
       "</table>\n",
       "<p>5 rows × 25 columns</p>\n",
       "</div>"
      ],
      "text/plain": [
       "         TEAM CONF   G   W  ADJOE  ADJDE  BARTHAG  EFG_O  EFG_D   TOR  ...  \\\n",
       "2  Notre Dame  ACC  36  24  118.3  103.3   0.8269   54.0   49.5  15.3  ...   \n",
       "3    Virginia  ACC  37  29  119.9   91.0   0.9600   54.8   48.4  15.1  ...   \n",
       "4      Kansas  B12  37  32  120.9   90.4   0.9662   55.7   45.1  17.8  ...   \n",
       "5      Oregon  P12  37  30  118.4   96.2   0.9163   52.3   48.9  16.1  ...   \n",
       "6    Syracuse  ACC  37  23  111.9   93.6   0.8857   50.0   47.3  18.1  ...   \n",
       "\n",
       "   2P_O  2P_D  3P_O  3P_D  ADJ_T   WAB  POSTSEASON  SEED  YEAR  windex  \n",
       "2  52.9  46.5  37.4  36.9   65.5   2.3          E8   6.0  2016   False  \n",
       "3  52.6  46.3  40.3  34.7   61.9   8.6          E8   1.0  2016    True  \n",
       "4  52.7  43.4  41.3  32.5   70.1  11.6          E8   1.0  2016    True  \n",
       "5  52.6  46.1  34.4  36.2   69.0   6.7          E8   1.0  2016   False  \n",
       "6  47.2  48.1  36.0  30.7   65.5  -0.3          F4  10.0  2016   False  \n",
       "\n",
       "[5 rows x 25 columns]"
      ]
     },
     "execution_count": 100,
     "metadata": {},
     "output_type": "execute_result"
    }
   ],
   "source": [
    "df1 = df.loc[df['POSTSEASON'].str.contains('F4|S16|E8', na=False)]\n",
    "df1.head()"
   ]
  },
  {
   "cell_type": "code",
   "execution_count": 101,
   "metadata": {
    "button": false,
    "new_sheet": false,
    "run_control": {
     "read_only": false
    },
    "tags": []
   },
   "outputs": [
    {
     "data": {
      "text/plain": [
       "S16    32\n",
       "E8     16\n",
       "F4      8\n",
       "Name: POSTSEASON, dtype: int64"
      ]
     },
     "execution_count": 101,
     "metadata": {},
     "output_type": "execute_result"
    }
   ],
   "source": [
    "df1['POSTSEASON'].value_counts()"
   ]
  },
  {
   "cell_type": "markdown",
   "metadata": {
    "button": false,
    "new_sheet": false,
    "run_control": {
     "read_only": false
    }
   },
   "source": [
    "32 teams made it into the Sweet Sixteen, 16 into the Elite Eight, and 8 made it into the Final Four over 5 seasons. \n"
   ]
  },
  {
   "cell_type": "markdown",
   "metadata": {},
   "source": [
    "Lets plot some columns to underestand the data better:\n"
   ]
  },
  {
   "cell_type": "code",
   "execution_count": 102,
   "metadata": {
    "tags": []
   },
   "outputs": [
    {
     "name": "stdout",
     "output_type": "stream",
     "text": [
      "Collecting package metadata (current_repodata.json): done\n",
      "Solving environment: done\n",
      "\n",
      "# All requested packages already installed.\n",
      "\n"
     ]
    }
   ],
   "source": [
    "# notice: installing seaborn might takes a few minutes\n",
    "!conda install -c anaconda seaborn -y"
   ]
  },
  {
   "cell_type": "code",
   "execution_count": 103,
   "metadata": {
    "tags": []
   },
   "outputs": [
    {
     "data": {
      "image/png": "[encoded data removed]",
      "text/plain": [
       "<Figure size 1800x300 with 2 Axes>"
      ]
     },
     "metadata": {},
     "output_type": "display_data"
    }
   ],
   "source": [
    "import seaborn as sns\n",
    "\n",
    "bins = np.linspace(df1.BARTHAG.min(), df1.BARTHAG.max(), 10)\n",
    "g = sns.FacetGrid(df1, col=\"windex\", hue=\"POSTSEASON\", palette=\"Set1\", col_wrap=6)\n",
    "g.map(plt.hist, 'BARTHAG', bins=bins, ec=\"k\")\n",
    "\n",
    "g.axes[-1].legend()\n",
    "plt.show()"
   ]
  },
  {
   "cell_type": "code",
   "execution_count": 104,
   "metadata": {
    "button": false,
    "new_sheet": false,
    "run_control": {
     "read_only": false
    },
    "tags": []
   },
   "outputs": [
    {
     "data": {
      "image/png": "[encoded data removed]",
      "text/plain": [
       "<Figure size 600x300 with 2 Axes>"
      ]
     },
     "metadata": {},
     "output_type": "display_data"
    }
   ],
   "source": [
    "bins = np.linspace(df1.ADJOE.min(), df1.ADJOE.max(), 10)\n",
    "g = sns.FacetGrid(df1, col=\"windex\", hue=\"POSTSEASON\", palette=\"Set1\", col_wrap=2)\n",
    "g.map(plt.hist, 'ADJOE', bins=bins, ec=\"k\")\n",
    "\n",
    "g.axes[-1].legend()\n",
    "plt.show()"
   ]
  },
  {
   "cell_type": "markdown",
   "metadata": {
    "button": false,
    "new_sheet": false,
    "run_control": {
     "read_only": false
    }
   },
   "source": [
    "# Pre-processing:  Feature selection/extraction\n"
   ]
  },
  {
   "cell_type": "markdown",
   "metadata": {
    "button": false,
    "new_sheet": false,
    "run_control": {
     "read_only": false
    }
   },
   "source": [
    "### Lets look at how Adjusted Defense Efficiency plots\n"
   ]
  },
  {
   "cell_type": "code",
   "execution_count": 105,
   "metadata": {
    "button": false,
    "new_sheet": false,
    "run_control": {
     "read_only": false
    },
    "tags": []
   },
   "outputs": [
    {
     "data": {
      "image/png": "[encoded data removed]",
      "text/plain": [
       "<Figure size 600x300 with 2 Axes>"
      ]
     },
     "metadata": {},
     "output_type": "display_data"
    }
   ],
   "source": [
    "bins = np.linspace(df1.ADJDE.min(), df1.ADJDE.max(), 10)\n",
    "g = sns.FacetGrid(df1, col=\"windex\", hue=\"POSTSEASON\", palette=\"Set1\", col_wrap=2)\n",
    "g.map(plt.hist, 'ADJDE', bins=bins, ec=\"k\")\n",
    "g.axes[-1].legend()\n",
    "plt.show()\n"
   ]
  },
  {
   "cell_type": "markdown",
   "metadata": {
    "button": false,
    "new_sheet": false,
    "run_control": {
     "read_only": false
    }
   },
   "source": [
    "We see that this data point doesn't impact the ability of a team to get into the Final Four. \n"
   ]
  },
  {
   "cell_type": "markdown",
   "metadata": {
    "button": false,
    "new_sheet": false,
    "run_control": {
     "read_only": false
    }
   },
   "source": [
    "## Convert Categorical features to numerical values\n"
   ]
  },
  {
   "cell_type": "markdown",
   "metadata": {
    "button": false,
    "new_sheet": false,
    "run_control": {
     "read_only": false
    }
   },
   "source": [
    "Lets look at the postseason:\n"
   ]
  },
  {
   "cell_type": "code",
   "execution_count": 106,
   "metadata": {
    "button": false,
    "new_sheet": false,
    "run_control": {
     "read_only": false
    },
    "tags": []
   },
   "outputs": [
    {
     "data": {
      "text/plain": [
       "windex  POSTSEASON\n",
       "False   S16           0.605263\n",
       "        E8            0.263158\n",
       "        F4            0.131579\n",
       "True    S16           0.500000\n",
       "        E8            0.333333\n",
       "        F4            0.166667\n",
       "Name: POSTSEASON, dtype: float64"
      ]
     },
     "execution_count": 106,
     "metadata": {},
     "output_type": "execute_result"
    }
   ],
   "source": [
    "df1.groupby(['windex'])['POSTSEASON'].value_counts(normalize=True)"
   ]
  },
  {
   "cell_type": "markdown",
   "metadata": {
    "button": false,
    "new_sheet": false,
    "run_control": {
     "read_only": false
    }
   },
   "source": [
    "13% of teams with 6 or less wins above bubble make it into the final four while 17% of teams with 7 or more do.\n"
   ]
  },
  {
   "cell_type": "markdown",
   "metadata": {
    "button": false,
    "new_sheet": false,
    "run_control": {
     "read_only": false
    }
   },
   "source": [
    "Lets convert wins above bubble (winindex) under 7 to 0 and over 7 to 1:\n"
   ]
  },
  {
   "cell_type": "code",
   "execution_count": 107,
   "metadata": {
    "button": false,
    "new_sheet": false,
    "run_control": {
     "read_only": false
    },
    "tags": []
   },
   "outputs": [
    {
     "data": {
      "text/html": [
       "<div>\n",
       "<style scoped>\n",
       "    .dataframe tbody tr th:only-of-type {\n",
       "        vertical-align: middle;\n",
       "    }\n",
       "\n",
       "    .dataframe tbody tr th {\n",
       "        vertical-align: top;\n",
       "    }\n",
       "\n",
       "    .dataframe thead th {\n",
       "        text-align: right;\n",
       "    }\n",
       "</style>\n",
       "<table border=\"1\" class=\"dataframe\">\n",
       "  <thead>\n",
       "    <tr style=\"text-align: right;\">\n",
       "      <th></th>\n",
       "      <th>TEAM</th>\n",
       "      <th>CONF</th>\n",
       "      <th>G</th>\n",
       "      <th>W</th>\n",
       "      <th>ADJOE</th>\n",
       "      <th>ADJDE</th>\n",
       "      <th>BARTHAG</th>\n",
       "      <th>EFG_O</th>\n",
       "      <th>EFG_D</th>\n",
       "      <th>TOR</th>\n",
       "      <th>...</th>\n",
       "      <th>2P_O</th>\n",
       "      <th>2P_D</th>\n",
       "      <th>3P_O</th>\n",
       "      <th>3P_D</th>\n",
       "      <th>ADJ_T</th>\n",
       "      <th>WAB</th>\n",
       "      <th>POSTSEASON</th>\n",
       "      <th>SEED</th>\n",
       "      <th>YEAR</th>\n",
       "      <th>windex</th>\n",
       "    </tr>\n",
       "  </thead>\n",
       "  <tbody>\n",
       "    <tr>\n",
       "      <th>2</th>\n",
       "      <td>Notre Dame</td>\n",
       "      <td>ACC</td>\n",
       "      <td>36</td>\n",
       "      <td>24</td>\n",
       "      <td>118.3</td>\n",
       "      <td>103.3</td>\n",
       "      <td>0.8269</td>\n",
       "      <td>54.0</td>\n",
       "      <td>49.5</td>\n",
       "      <td>15.3</td>\n",
       "      <td>...</td>\n",
       "      <td>52.9</td>\n",
       "      <td>46.5</td>\n",
       "      <td>37.4</td>\n",
       "      <td>36.9</td>\n",
       "      <td>65.5</td>\n",
       "      <td>2.3</td>\n",
       "      <td>E8</td>\n",
       "      <td>6.0</td>\n",
       "      <td>2016</td>\n",
       "      <td>0</td>\n",
       "    </tr>\n",
       "    <tr>\n",
       "      <th>3</th>\n",
       "      <td>Virginia</td>\n",
       "      <td>ACC</td>\n",
       "      <td>37</td>\n",
       "      <td>29</td>\n",
       "      <td>119.9</td>\n",
       "      <td>91.0</td>\n",
       "      <td>0.9600</td>\n",
       "      <td>54.8</td>\n",
       "      <td>48.4</td>\n",
       "      <td>15.1</td>\n",
       "      <td>...</td>\n",
       "      <td>52.6</td>\n",
       "      <td>46.3</td>\n",
       "      <td>40.3</td>\n",
       "      <td>34.7</td>\n",
       "      <td>61.9</td>\n",
       "      <td>8.6</td>\n",
       "      <td>E8</td>\n",
       "      <td>1.0</td>\n",
       "      <td>2016</td>\n",
       "      <td>1</td>\n",
       "    </tr>\n",
       "    <tr>\n",
       "      <th>4</th>\n",
       "      <td>Kansas</td>\n",
       "      <td>B12</td>\n",
       "      <td>37</td>\n",
       "      <td>32</td>\n",
       "      <td>120.9</td>\n",
       "      <td>90.4</td>\n",
       "      <td>0.9662</td>\n",
       "      <td>55.7</td>\n",
       "      <td>45.1</td>\n",
       "      <td>17.8</td>\n",
       "      <td>...</td>\n",
       "      <td>52.7</td>\n",
       "      <td>43.4</td>\n",
       "      <td>41.3</td>\n",
       "      <td>32.5</td>\n",
       "      <td>70.1</td>\n",
       "      <td>11.6</td>\n",
       "      <td>E8</td>\n",
       "      <td>1.0</td>\n",
       "      <td>2016</td>\n",
       "      <td>1</td>\n",
       "    </tr>\n",
       "    <tr>\n",
       "      <th>5</th>\n",
       "      <td>Oregon</td>\n",
       "      <td>P12</td>\n",
       "      <td>37</td>\n",
       "      <td>30</td>\n",
       "      <td>118.4</td>\n",
       "      <td>96.2</td>\n",
       "      <td>0.9163</td>\n",
       "      <td>52.3</td>\n",
       "      <td>48.9</td>\n",
       "      <td>16.1</td>\n",
       "      <td>...</td>\n",
       "      <td>52.6</td>\n",
       "      <td>46.1</td>\n",
       "      <td>34.4</td>\n",
       "      <td>36.2</td>\n",
       "      <td>69.0</td>\n",
       "      <td>6.7</td>\n",
       "      <td>E8</td>\n",
       "      <td>1.0</td>\n",
       "      <td>2016</td>\n",
       "      <td>0</td>\n",
       "    </tr>\n",
       "    <tr>\n",
       "      <th>6</th>\n",
       "      <td>Syracuse</td>\n",
       "      <td>ACC</td>\n",
       "      <td>37</td>\n",
       "      <td>23</td>\n",
       "      <td>111.9</td>\n",
       "      <td>93.6</td>\n",
       "      <td>0.8857</td>\n",
       "      <td>50.0</td>\n",
       "      <td>47.3</td>\n",
       "      <td>18.1</td>\n",
       "      <td>...</td>\n",
       "      <td>47.2</td>\n",
       "      <td>48.1</td>\n",
       "      <td>36.0</td>\n",
       "      <td>30.7</td>\n",
       "      <td>65.5</td>\n",
       "      <td>-0.3</td>\n",
       "      <td>F4</td>\n",
       "      <td>10.0</td>\n",
       "      <td>2016</td>\n",
       "      <td>0</td>\n",
       "    </tr>\n",
       "  </tbody>\n",
       "</table>\n",
       "<p>5 rows × 25 columns</p>\n",
       "</div>"
      ],
      "text/plain": [
       "         TEAM CONF   G   W  ADJOE  ADJDE  BARTHAG  EFG_O  EFG_D   TOR  ...  \\\n",
       "2  Notre Dame  ACC  36  24  118.3  103.3   0.8269   54.0   49.5  15.3  ...   \n",
       "3    Virginia  ACC  37  29  119.9   91.0   0.9600   54.8   48.4  15.1  ...   \n",
       "4      Kansas  B12  37  32  120.9   90.4   0.9662   55.7   45.1  17.8  ...   \n",
       "5      Oregon  P12  37  30  118.4   96.2   0.9163   52.3   48.9  16.1  ...   \n",
       "6    Syracuse  ACC  37  23  111.9   93.6   0.8857   50.0   47.3  18.1  ...   \n",
       "\n",
       "   2P_O  2P_D  3P_O  3P_D  ADJ_T   WAB  POSTSEASON  SEED  YEAR  windex  \n",
       "2  52.9  46.5  37.4  36.9   65.5   2.3          E8   6.0  2016       0  \n",
       "3  52.6  46.3  40.3  34.7   61.9   8.6          E8   1.0  2016       1  \n",
       "4  52.7  43.4  41.3  32.5   70.1  11.6          E8   1.0  2016       1  \n",
       "5  52.6  46.1  34.4  36.2   69.0   6.7          E8   1.0  2016       0  \n",
       "6  47.2  48.1  36.0  30.7   65.5  -0.3          F4  10.0  2016       0  \n",
       "\n",
       "[5 rows x 25 columns]"
      ]
     },
     "execution_count": 107,
     "metadata": {},
     "output_type": "execute_result"
    }
   ],
   "source": [
    "df1['windex'].replace(to_replace=['False','True'], value=[0,1],inplace=True)\n",
    "df1.head()"
   ]
  },
  {
   "cell_type": "markdown",
   "metadata": {
    "button": false,
    "new_sheet": false,
    "run_control": {
     "read_only": false
    }
   },
   "source": [
    "### Feature selection\n"
   ]
  },
  {
   "cell_type": "markdown",
   "metadata": {
    "button": false,
    "new_sheet": false,
    "run_control": {
     "read_only": false
    }
   },
   "source": [
    "Let's define feature sets, X:\n"
   ]
  },
  {
   "cell_type": "code",
   "execution_count": 108,
   "metadata": {
    "button": false,
    "new_sheet": false,
    "run_control": {
     "read_only": false
    },
    "tags": []
   },
   "outputs": [
    {
     "data": {
      "text/html": [
       "<div>\n",
       "<style scoped>\n",
       "    .dataframe tbody tr th:only-of-type {\n",
       "        vertical-align: middle;\n",
       "    }\n",
       "\n",
       "    .dataframe tbody tr th {\n",
       "        vertical-align: top;\n",
       "    }\n",
       "\n",
       "    .dataframe thead th {\n",
       "        text-align: right;\n",
       "    }\n",
       "</style>\n",
       "<table border=\"1\" class=\"dataframe\">\n",
       "  <thead>\n",
       "    <tr style=\"text-align: right;\">\n",
       "      <th></th>\n",
       "      <th>G</th>\n",
       "      <th>W</th>\n",
       "      <th>ADJOE</th>\n",
       "      <th>ADJDE</th>\n",
       "      <th>BARTHAG</th>\n",
       "      <th>EFG_O</th>\n",
       "      <th>EFG_D</th>\n",
       "      <th>TOR</th>\n",
       "      <th>TORD</th>\n",
       "      <th>ORB</th>\n",
       "      <th>...</th>\n",
       "      <th>FTR</th>\n",
       "      <th>FTRD</th>\n",
       "      <th>2P_O</th>\n",
       "      <th>2P_D</th>\n",
       "      <th>3P_O</th>\n",
       "      <th>3P_D</th>\n",
       "      <th>ADJ_T</th>\n",
       "      <th>WAB</th>\n",
       "      <th>SEED</th>\n",
       "      <th>windex</th>\n",
       "    </tr>\n",
       "  </thead>\n",
       "  <tbody>\n",
       "    <tr>\n",
       "      <th>2</th>\n",
       "      <td>36</td>\n",
       "      <td>24</td>\n",
       "      <td>118.3</td>\n",
       "      <td>103.3</td>\n",
       "      <td>0.8269</td>\n",
       "      <td>54.0</td>\n",
       "      <td>49.5</td>\n",
       "      <td>15.3</td>\n",
       "      <td>14.8</td>\n",
       "      <td>32.7</td>\n",
       "      <td>...</td>\n",
       "      <td>32.9</td>\n",
       "      <td>26.0</td>\n",
       "      <td>52.9</td>\n",
       "      <td>46.5</td>\n",
       "      <td>37.4</td>\n",
       "      <td>36.9</td>\n",
       "      <td>65.5</td>\n",
       "      <td>2.3</td>\n",
       "      <td>6.0</td>\n",
       "      <td>0</td>\n",
       "    </tr>\n",
       "    <tr>\n",
       "      <th>3</th>\n",
       "      <td>37</td>\n",
       "      <td>29</td>\n",
       "      <td>119.9</td>\n",
       "      <td>91.0</td>\n",
       "      <td>0.9600</td>\n",
       "      <td>54.8</td>\n",
       "      <td>48.4</td>\n",
       "      <td>15.1</td>\n",
       "      <td>18.8</td>\n",
       "      <td>29.9</td>\n",
       "      <td>...</td>\n",
       "      <td>32.1</td>\n",
       "      <td>33.4</td>\n",
       "      <td>52.6</td>\n",
       "      <td>46.3</td>\n",
       "      <td>40.3</td>\n",
       "      <td>34.7</td>\n",
       "      <td>61.9</td>\n",
       "      <td>8.6</td>\n",
       "      <td>1.0</td>\n",
       "      <td>1</td>\n",
       "    </tr>\n",
       "    <tr>\n",
       "      <th>4</th>\n",
       "      <td>37</td>\n",
       "      <td>32</td>\n",
       "      <td>120.9</td>\n",
       "      <td>90.4</td>\n",
       "      <td>0.9662</td>\n",
       "      <td>55.7</td>\n",
       "      <td>45.1</td>\n",
       "      <td>17.8</td>\n",
       "      <td>18.5</td>\n",
       "      <td>32.2</td>\n",
       "      <td>...</td>\n",
       "      <td>38.6</td>\n",
       "      <td>37.3</td>\n",
       "      <td>52.7</td>\n",
       "      <td>43.4</td>\n",
       "      <td>41.3</td>\n",
       "      <td>32.5</td>\n",
       "      <td>70.1</td>\n",
       "      <td>11.6</td>\n",
       "      <td>1.0</td>\n",
       "      <td>1</td>\n",
       "    </tr>\n",
       "    <tr>\n",
       "      <th>5</th>\n",
       "      <td>37</td>\n",
       "      <td>30</td>\n",
       "      <td>118.4</td>\n",
       "      <td>96.2</td>\n",
       "      <td>0.9163</td>\n",
       "      <td>52.3</td>\n",
       "      <td>48.9</td>\n",
       "      <td>16.1</td>\n",
       "      <td>20.2</td>\n",
       "      <td>34.1</td>\n",
       "      <td>...</td>\n",
       "      <td>40.3</td>\n",
       "      <td>32.0</td>\n",
       "      <td>52.6</td>\n",
       "      <td>46.1</td>\n",
       "      <td>34.4</td>\n",
       "      <td>36.2</td>\n",
       "      <td>69.0</td>\n",
       "      <td>6.7</td>\n",
       "      <td>1.0</td>\n",
       "      <td>0</td>\n",
       "    </tr>\n",
       "    <tr>\n",
       "      <th>6</th>\n",
       "      <td>37</td>\n",
       "      <td>23</td>\n",
       "      <td>111.9</td>\n",
       "      <td>93.6</td>\n",
       "      <td>0.8857</td>\n",
       "      <td>50.0</td>\n",
       "      <td>47.3</td>\n",
       "      <td>18.1</td>\n",
       "      <td>20.4</td>\n",
       "      <td>33.5</td>\n",
       "      <td>...</td>\n",
       "      <td>35.4</td>\n",
       "      <td>28.0</td>\n",
       "      <td>47.2</td>\n",
       "      <td>48.1</td>\n",
       "      <td>36.0</td>\n",
       "      <td>30.7</td>\n",
       "      <td>65.5</td>\n",
       "      <td>-0.3</td>\n",
       "      <td>10.0</td>\n",
       "      <td>0</td>\n",
       "    </tr>\n",
       "  </tbody>\n",
       "</table>\n",
       "<p>5 rows × 21 columns</p>\n",
       "</div>"
      ],
      "text/plain": [
       "    G   W  ADJOE  ADJDE  BARTHAG  EFG_O  EFG_D   TOR  TORD   ORB  ...   FTR  \\\n",
       "2  36  24  118.3  103.3   0.8269   54.0   49.5  15.3  14.8  32.7  ...  32.9   \n",
       "3  37  29  119.9   91.0   0.9600   54.8   48.4  15.1  18.8  29.9  ...  32.1   \n",
       "4  37  32  120.9   90.4   0.9662   55.7   45.1  17.8  18.5  32.2  ...  38.6   \n",
       "5  37  30  118.4   96.2   0.9163   52.3   48.9  16.1  20.2  34.1  ...  40.3   \n",
       "6  37  23  111.9   93.6   0.8857   50.0   47.3  18.1  20.4  33.5  ...  35.4   \n",
       "\n",
       "   FTRD  2P_O  2P_D  3P_O  3P_D  ADJ_T   WAB  SEED  windex  \n",
       "2  26.0  52.9  46.5  37.4  36.9   65.5   2.3   6.0       0  \n",
       "3  33.4  52.6  46.3  40.3  34.7   61.9   8.6   1.0       1  \n",
       "4  37.3  52.7  43.4  41.3  32.5   70.1  11.6   1.0       1  \n",
       "5  32.0  52.6  46.1  34.4  36.2   69.0   6.7   1.0       0  \n",
       "6  28.0  47.2  48.1  36.0  30.7   65.5  -0.3  10.0       0  \n",
       "\n",
       "[5 rows x 21 columns]"
      ]
     },
     "execution_count": 108,
     "metadata": {},
     "output_type": "execute_result"
    }
   ],
   "source": [
    "X = df1[['G', 'W', 'ADJOE', 'ADJDE', 'BARTHAG', 'EFG_O', 'EFG_D',\n",
    "       'TOR', 'TORD', 'ORB', 'DRB', 'FTR', 'FTRD', '2P_O', '2P_D', '3P_O',\n",
    "       '3P_D', 'ADJ_T', 'WAB', 'SEED', 'windex']]\n",
    "X[0:5]"
   ]
  },
  {
   "cell_type": "markdown",
   "metadata": {
    "button": false,
    "new_sheet": false,
    "run_control": {
     "read_only": false
    }
   },
   "source": [
    "What are our lables? Round where the given team was eliminated or where their season ended (R68 = First Four, R64 = Round of 64, R32 = Round of 32, S16 = Sweet Sixteen, E8 = Elite Eight, F4 = Final Four, 2ND = Runner-up, Champion = Winner of the NCAA March Madness Tournament for that given year)|\n"
   ]
  },
  {
   "cell_type": "code",
   "execution_count": 109,
   "metadata": {
    "button": false,
    "new_sheet": false,
    "run_control": {
     "read_only": false
    },
    "tags": []
   },
   "outputs": [
    {
     "data": {
      "text/plain": [
       "array(['E8', 'E8', 'E8', 'E8', 'F4'], dtype=object)"
      ]
     },
     "execution_count": 109,
     "metadata": {},
     "output_type": "execute_result"
    }
   ],
   "source": [
    "y = df1['POSTSEASON'].values\n",
    "y[0:5]"
   ]
  },
  {
   "cell_type": "markdown",
   "metadata": {
    "button": false,
    "new_sheet": false,
    "run_control": {
     "read_only": false
    }
   },
   "source": [
    "## Normalize Data \n"
   ]
  },
  {
   "cell_type": "markdown",
   "metadata": {
    "button": false,
    "new_sheet": false,
    "run_control": {
     "read_only": false
    }
   },
   "source": [
    "Data Standardization gives data zero mean and unit variance (technically should be done after train test split )\n"
   ]
  },
  {
   "cell_type": "code",
   "execution_count": 110,
   "metadata": {
    "button": false,
    "new_sheet": false,
    "run_control": {
     "read_only": false
    },
    "tags": []
   },
   "outputs": [
    {
     "data": {
      "text/plain": [
       "array([[-0.43, -1.26,  0.28,  2.74, -2.46,  0.1 ,  0.94, -1.16, -1.71,\n",
       "         0.13,  1.33, -0.49, -0.88,  0.03,  0.  ,  0.23,  1.6 , -1.12,\n",
       "        -1.04,  0.5 , -0.69],\n",
       "       [ 0.4 ,  0.36,  0.65, -0.9 ,  1.13,  0.39,  0.38, -1.29, -0.04,\n",
       "        -0.63, -1.32, -0.69,  0.55, -0.07, -0.08,  1.33,  0.65, -2.37,\n",
       "         0.98, -1.14,  1.45],\n",
       "       [ 0.4 ,  1.33,  0.88, -1.08,  1.29,  0.72, -1.3 ,  0.5 , -0.16,\n",
       "        -0.01, -0.28,  0.87,  1.31, -0.04, -1.33,  1.71, -0.3 ,  0.47,\n",
       "         1.94, -1.14,  1.45],\n",
       "       [ 0.4 ,  0.68,  0.3 ,  0.64, -0.05, -0.52,  0.64, -0.63,  0.55,\n",
       "         0.51,  0.72,  1.27,  0.28, -0.07, -0.17, -0.91,  1.3 ,  0.09,\n",
       "         0.37, -1.14, -0.69],\n",
       "       [ 0.4 , -1.59, -1.19, -0.13, -0.87, -1.37, -0.18,  0.7 ,  0.64,\n",
       "         0.34,  2.56,  0.1 , -0.49, -1.86,  0.69, -0.31, -1.07, -1.12,\n",
       "        -1.88,  1.81, -0.69]])"
      ]
     },
     "execution_count": 110,
     "metadata": {},
     "output_type": "execute_result"
    }
   ],
   "source": [
    "X= preprocessing.StandardScaler().fit(X).transform(X)\n",
    "X[0:5]"
   ]
  },
  {
   "cell_type": "markdown",
   "metadata": {
    "button": false,
    "new_sheet": false,
    "run_control": {
     "read_only": false
    }
   },
   "source": [
    "## Training and Validation \n"
   ]
  },
  {
   "cell_type": "markdown",
   "metadata": {
    "button": false,
    "new_sheet": false,
    "run_control": {
     "read_only": false
    }
   },
   "source": [
    "Split the data into Training and Validation data.\n"
   ]
  },
  {
   "cell_type": "code",
   "execution_count": 111,
   "metadata": {
    "button": false,
    "new_sheet": false,
    "run_control": {
     "read_only": false
    },
    "tags": []
   },
   "outputs": [
    {
     "name": "stdout",
     "output_type": "stream",
     "text": [
      "Train set: (44, 21) (44,)\n",
      "Validation set: (12, 21) (12,)\n"
     ]
    }
   ],
   "source": [
    "# We split the X into train and test to find the best k\n",
    "from sklearn.model_selection import train_test_split\n",
    "X_train, X_val, y_train, y_val = train_test_split(X, y, test_size=0.2, random_state=4)\n",
    "print ('Train set:', X_train.shape,  y_train.shape)\n",
    "print ('Validation set:', X_val.shape,  y_val.shape)\n"
   ]
  },
  {
   "cell_type": "markdown",
   "metadata": {
    "button": false,
    "new_sheet": false,
    "run_control": {
     "read_only": false
    }
   },
   "source": [
    "# Classification \n"
   ]
  },
  {
   "cell_type": "markdown",
   "metadata": {
    "button": false,
    "new_sheet": false,
    "run_control": {
     "read_only": false
    }
   },
   "source": [
    "Now, it is your turn, use the training set to build an accurate model. Then use the validation set  to report the accuracy of the model\n",
    "You should use the following algorithm:\n",
    "- K Nearest Neighbor(KNN)\n",
    "- Decision Tree\n",
    "- Support Vector Machine\n",
    "- Logistic Regression\n",
    "\n"
   ]
  },
  {
   "cell_type": "markdown",
   "metadata": {},
   "source": [
    "# K Nearest Neighbor(KNN)\n",
    "\n",
    "<b>Question  1 </b> Build a KNN model using a value of k equals five, find the accuracy on the validation data (X_val and y_val)\n"
   ]
  },
  {
   "cell_type": "markdown",
   "metadata": {},
   "source": [
    "You can use <code> accuracy_score</cdoe>\n"
   ]
  },
  {
   "cell_type": "code",
   "execution_count": 112,
   "metadata": {
    "tags": []
   },
   "outputs": [],
   "source": [
    "from sklearn.metrics import accuracy_score\n",
    "from sklearn.neighbors import KNeighborsClassifier"
   ]
  },
  {
   "cell_type": "markdown",
   "metadata": {},
   "source": [
    "<b>Question  2</b> Determine and print the accuracy for the first 15 values of k on the validation data:\n"
   ]
  },
  {
   "cell_type": "code",
   "execution_count": 113,
   "metadata": {
    "tags": []
   },
   "outputs": [
    {
     "name": "stdout",
     "output_type": "stream",
     "text": [
      "k=5\n",
      "Train set Accuracy:  0.6363636363636364\n",
      "Test set Accuracy:  0.6666666666666666\n"
     ]
    }
   ],
   "source": [
    "#Train Model and Predict  \n",
    "neigh = KNeighborsClassifier(n_neighbors = 5).fit(X_train,y_train)\n",
    "knnyhat = neigh.predict(X_val)\n",
    "print(\"k=5\")\n",
    "print(\"Train set Accuracy: \", accuracy_score(y_train, neigh.predict(X_train)))\n",
    "print(\"Test set Accuracy: \", accuracy_score(y_val, knnyhat))"
   ]
  },
  {
   "cell_type": "markdown",
   "metadata": {},
   "source": [
    "# Decision Tree\n"
   ]
  },
  {
   "cell_type": "markdown",
   "metadata": {},
   "source": [
    "The following lines of code fit a <code>DecisionTreeClassifier</code>:\n"
   ]
  },
  {
   "cell_type": "code",
   "execution_count": 114,
   "metadata": {
    "tags": []
   },
   "outputs": [],
   "source": [
    "from sklearn.tree import DecisionTreeClassifier"
   ]
  },
  {
   "cell_type": "markdown",
   "metadata": {},
   "source": [
    "<b>Question  3</b> Determine the minumum   value for the parameter <code>max_depth</code> that improves results \n"
   ]
  },
  {
   "cell_type": "code",
   "execution_count": 115,
   "metadata": {
    "tags": []
   },
   "outputs": [
    {
     "name": "stdout",
     "output_type": "stream",
     "text": [
      "DecisionTrees's Accuracy at max_depth=2:  0.6666666666666666\n"
     ]
    }
   ],
   "source": [
    "\n",
    "teamtree = DecisionTreeClassifier(criterion=\"entropy\", max_depth = 2)\n",
    "teamtree.fit(X_train,y_train)\n",
    "predTree = teamtree.predict(X_val)\n",
    "#print (predTree [0:5])\n",
    "#print (y_val [0:5])\n",
    "print(f\"DecisionTrees's Accuracy at max_depth=2:  {accuracy_score(y_val, predTree)}\")\n",
    "\n"
   ]
  },
  {
   "cell_type": "code",
   "execution_count": 116,
   "metadata": {
    "tags": []
   },
   "outputs": [],
   "source": [
    "import matplotlib.pyplot as plt\n",
    "from sklearn.tree import export_graphviz\n",
    "export_graphviz(teamtree, out_file='tree.dot', filled=True)\n",
    "!dot -Tpng tree.dot -o tree.png\n"
   ]
  },
  {
   "cell_type": "markdown",
   "metadata": {},
   "source": [
    "# Support Vector Machine\n"
   ]
  },
  {
   "cell_type": "markdown",
   "metadata": {},
   "source": [
    "<b>Question  4</b> Train the support  vector machine model and determine the accuracy on the validation data for each kernel. Find the kernel (linear, poly, rbf, sigmoid) that provides the best score on the validation data and train a SVM using it.\n"
   ]
  },
  {
   "cell_type": "code",
   "execution_count": 117,
   "metadata": {
    "tags": []
   },
   "outputs": [],
   "source": [
    "from sklearn import svm"
   ]
  },
  {
   "cell_type": "code",
   "execution_count": 118,
   "metadata": {
    "tags": []
   },
   "outputs": [
    {
     "name": "stdout",
     "output_type": "stream",
     "text": [
      "              precision    recall  f1-score   support\n",
      "\n",
      "          E8       0.00      0.00      0.00         2\n",
      "          F4       0.00      0.00      0.00         2\n",
      "         S16       0.60      0.75      0.67         8\n",
      "\n",
      "   micro avg       0.50      0.50      0.50        12\n",
      "   macro avg       0.20      0.25      0.22        12\n",
      "weighted avg       0.40      0.50      0.44        12\n",
      "\n",
      "Confusion matrix, without normalization\n",
      "[[0 0 2]\n",
      " [0 0 2]\n",
      " [2 0 6]]\n"
     ]
    },
    {
     "data": {
      "image/png": "[encoded data removed]",
      "text/plain": [
       "<Figure size 640x480 with 2 Axes>"
      ]
     },
     "metadata": {},
     "output_type": "display_data"
    }
   ],
   "source": [
    "clf = svm.SVC(kernel='sigmoid')\n",
    "clf.fit(X_train, y_train) \n",
    "svmyhat = clf.predict(X_val)\n",
    "\n",
    "from sklearn.metrics import classification_report, confusion_matrix\n",
    "import itertools\n",
    "\n",
    "def plot_confusion_matrix(cm, classes,\n",
    "                          normalize=False,\n",
    "                          title='Confusion matrix',\n",
    "                          cmap=plt.cm.Blues):\n",
    "    \"\"\"\n",
    "    This function prints and plots the confusion matrix.\n",
    "    Normalization can be applied by setting `normalize=True`.\n",
    "    \"\"\"\n",
    "    if normalize:\n",
    "        cm = cm.astype('float') / cm.sum(axis=1)[:, np.newaxis]\n",
    "        print(\"Normalized confusion matrix\")\n",
    "    else:\n",
    "        print('Confusion matrix, without normalization')\n",
    "\n",
    "    print(cm)\n",
    "\n",
    "    plt.imshow(cm, interpolation='nearest', cmap=cmap)\n",
    "    plt.title(title)\n",
    "    plt.colorbar()\n",
    "    tick_marks = np.arange(len(classes))\n",
    "    plt.xticks(tick_marks, classes, rotation=45)\n",
    "    plt.yticks(tick_marks, classes)\n",
    "\n",
    "    fmt = '.2f' if normalize else 'd'\n",
    "    thresh = cm.max() / 2.\n",
    "    for i, j in itertools.product(range(cm.shape[0]), range(cm.shape[1])):\n",
    "        plt.text(j, i, format(cm[i, j], fmt),\n",
    "                 horizontalalignment=\"center\",\n",
    "                 color=\"white\" if cm[i, j] > thresh else \"black\")\n",
    "\n",
    "    plt.tight_layout()\n",
    "    plt.ylabel('True label')\n",
    "    plt.xlabel('Predicted label')\n",
    "    \n",
    "    # Compute confusion matrix\n",
    "cnf_matrix = confusion_matrix(y_val, svmyhat)\n",
    "np.set_printoptions(precision=2)\n",
    "\n",
    "print (classification_report(y_val, svmyhat))\n",
    "\n",
    "# Plot non-normalized confusion matrix\n",
    "plt.figure()\n",
    "plot_confusion_matrix(cnf_matrix, classes=['val1','val2','val3'],normalize= False,  title='Confusion matrix')"
   ]
  },
  {
   "cell_type": "markdown",
   "metadata": {},
   "source": [
    "# Logistic Regression\n"
   ]
  },
  {
   "cell_type": "markdown",
   "metadata": {},
   "source": [
    "<b>Question 5</b> Train a logistic regression model and determine the accuracy of the validation data (set C=0.01)\n"
   ]
  },
  {
   "cell_type": "code",
   "execution_count": 119,
   "metadata": {
    "tags": []
   },
   "outputs": [],
   "source": [
    "from sklearn.linear_model import LogisticRegression"
   ]
  },
  {
   "cell_type": "code",
   "execution_count": 120,
   "metadata": {
    "tags": []
   },
   "outputs": [
    {
     "name": "stdout",
     "output_type": "stream",
     "text": [
      "Logistic Regression F! Score 0.5833333333333334\n",
      "[[1 0 1]\n",
      " [0 2 0]\n",
      " [4 0 4]]\n"
     ]
    }
   ],
   "source": [
    "LR = LogisticRegression(C=0.01, solver='liblinear').fit(X_train,y_train)\n",
    "lryhat = LR.predict(X_val)\n",
    "yhat_prob = LR.predict_proba(X_val)\n",
    "lrf1score = f1_score(y_val, lryhat, average='micro')\n",
    "print(\"Logistic Regression F! Score\",lrf1score)\n",
    "\n",
    "from sklearn.metrics import classification_report, confusion_matrix\n",
    "import itertools\n",
    "def plot_confusion_matrix(cm, classes,\n",
    "                          normalize=False,\n",
    "                          title='Confusion matrix',\n",
    "                          cmap=plt.cm.Blues):\n",
    "    \"\"\"\n",
    "    This function prints and plots the confusion matrix.\n",
    "    Normalization can be applied by setting `normalize=True`.\n",
    "    \"\"\"\n",
    "    if normalize:\n",
    "        cm = cm.astype('float') / cm.sum(axis=1)[:, np.newaxis]\n",
    "        print(\"Normalized confusion matrix\")\n",
    "    else:\n",
    "        print('Confusion matrix, without normalization')\n",
    "\n",
    "    print(cm)\n",
    "\n",
    "    plt.imshow(cm, interpolation='nearest', cmap=cmap)\n",
    "    plt.title(title)\n",
    "    plt.colorbar()\n",
    "    tick_marks = np.arange(len(classes))\n",
    "    plt.xticks(tick_marks, classes, rotation=45)\n",
    "    plt.yticks(tick_marks, classes)\n",
    "\n",
    "    fmt = '.2f' if normalize else 'd'\n",
    "    thresh = cm.max() / 2.\n",
    "    for i, j in itertools.product(range(cm.shape[0]), range(cm.shape[1])):\n",
    "        plt.text(j, i, format(cm[i, j], fmt),\n",
    "                 horizontalalignment=\"center\",\n",
    "                 color=\"white\" if cm[i, j] > thresh else \"black\")\n",
    "\n",
    "    plt.tight_layout()\n",
    "    plt.ylabel('True label')\n",
    "    plt.xlabel('Predicted label')\n",
    "print(confusion_matrix(y_val, lryhat))"
   ]
  },
  {
   "cell_type": "markdown",
   "metadata": {},
   "source": [
    "# Model Evaluation using Test set\n"
   ]
  },
  {
   "cell_type": "code",
   "execution_count": 121,
   "metadata": {
    "tags": []
   },
   "outputs": [],
   "source": [
    "from sklearn.metrics import f1_score\n",
    "# for f1_score please set the average parameter to 'micro'\n",
    "from sklearn.metrics import log_loss"
   ]
  },
  {
   "cell_type": "code",
   "execution_count": 122,
   "metadata": {
    "tags": []
   },
   "outputs": [],
   "source": [
    "def jaccard_index(predictions, true):\n",
    "    if (len(predictions) == len(true)):\n",
    "        intersect = 0;\n",
    "        for x,y in zip(predictions, true):\n",
    "            if (x == y):\n",
    "                intersect += 1\n",
    "        return intersect / (len(predictions) + len(true) - intersect)\n",
    "    else:\n",
    "        return -1"
   ]
  },
  {
   "cell_type": "markdown",
   "metadata": {},
   "source": [
    "<b>Question  5</b> Calculate the  F1 score and Jaccard score for each model from above. Use the Hyperparameter that performed best on the validation data. **For f1_score please set the average parameter to 'micro'.**\n"
   ]
  },
  {
   "cell_type": "markdown",
   "metadata": {
    "button": false,
    "new_sheet": false,
    "run_control": {
     "read_only": false
    }
   },
   "source": [
    "### Load Test set for evaluation \n"
   ]
  },
  {
   "cell_type": "code",
   "execution_count": 123,
   "metadata": {
    "button": false,
    "new_sheet": false,
    "run_control": {
     "read_only": false
    },
    "tags": []
   },
   "outputs": [
    {
     "data": {
      "text/html": [
       "<div>\n",
       "<style scoped>\n",
       "    .dataframe tbody tr th:only-of-type {\n",
       "        vertical-align: middle;\n",
       "    }\n",
       "\n",
       "    .dataframe tbody tr th {\n",
       "        vertical-align: top;\n",
       "    }\n",
       "\n",
       "    .dataframe thead th {\n",
       "        text-align: right;\n",
       "    }\n",
       "</style>\n",
       "<table border=\"1\" class=\"dataframe\">\n",
       "  <thead>\n",
       "    <tr style=\"text-align: right;\">\n",
       "      <th></th>\n",
       "      <th>TEAM</th>\n",
       "      <th>CONF</th>\n",
       "      <th>G</th>\n",
       "      <th>W</th>\n",
       "      <th>ADJOE</th>\n",
       "      <th>ADJDE</th>\n",
       "      <th>BARTHAG</th>\n",
       "      <th>EFG_O</th>\n",
       "      <th>EFG_D</th>\n",
       "      <th>TOR</th>\n",
       "      <th>...</th>\n",
       "      <th>FTRD</th>\n",
       "      <th>2P_O</th>\n",
       "      <th>2P_D</th>\n",
       "      <th>3P_O</th>\n",
       "      <th>3P_D</th>\n",
       "      <th>ADJ_T</th>\n",
       "      <th>WAB</th>\n",
       "      <th>POSTSEASON</th>\n",
       "      <th>SEED</th>\n",
       "      <th>YEAR</th>\n",
       "    </tr>\n",
       "  </thead>\n",
       "  <tbody>\n",
       "    <tr>\n",
       "      <th>0</th>\n",
       "      <td>North Carolina</td>\n",
       "      <td>ACC</td>\n",
       "      <td>40</td>\n",
       "      <td>33</td>\n",
       "      <td>123.3</td>\n",
       "      <td>94.9</td>\n",
       "      <td>0.9531</td>\n",
       "      <td>52.6</td>\n",
       "      <td>48.1</td>\n",
       "      <td>15.4</td>\n",
       "      <td>...</td>\n",
       "      <td>30.4</td>\n",
       "      <td>53.9</td>\n",
       "      <td>44.6</td>\n",
       "      <td>32.7</td>\n",
       "      <td>36.2</td>\n",
       "      <td>71.7</td>\n",
       "      <td>8.6</td>\n",
       "      <td>2ND</td>\n",
       "      <td>1.0</td>\n",
       "      <td>2016</td>\n",
       "    </tr>\n",
       "    <tr>\n",
       "      <th>1</th>\n",
       "      <td>Villanova</td>\n",
       "      <td>BE</td>\n",
       "      <td>40</td>\n",
       "      <td>35</td>\n",
       "      <td>123.1</td>\n",
       "      <td>90.9</td>\n",
       "      <td>0.9703</td>\n",
       "      <td>56.1</td>\n",
       "      <td>46.7</td>\n",
       "      <td>16.3</td>\n",
       "      <td>...</td>\n",
       "      <td>30.0</td>\n",
       "      <td>57.4</td>\n",
       "      <td>44.1</td>\n",
       "      <td>36.2</td>\n",
       "      <td>33.9</td>\n",
       "      <td>66.7</td>\n",
       "      <td>8.9</td>\n",
       "      <td>Champions</td>\n",
       "      <td>2.0</td>\n",
       "      <td>2016</td>\n",
       "    </tr>\n",
       "    <tr>\n",
       "      <th>2</th>\n",
       "      <td>Notre Dame</td>\n",
       "      <td>ACC</td>\n",
       "      <td>36</td>\n",
       "      <td>24</td>\n",
       "      <td>118.3</td>\n",
       "      <td>103.3</td>\n",
       "      <td>0.8269</td>\n",
       "      <td>54.0</td>\n",
       "      <td>49.5</td>\n",
       "      <td>15.3</td>\n",
       "      <td>...</td>\n",
       "      <td>26.0</td>\n",
       "      <td>52.9</td>\n",
       "      <td>46.5</td>\n",
       "      <td>37.4</td>\n",
       "      <td>36.9</td>\n",
       "      <td>65.5</td>\n",
       "      <td>2.3</td>\n",
       "      <td>E8</td>\n",
       "      <td>6.0</td>\n",
       "      <td>2016</td>\n",
       "    </tr>\n",
       "    <tr>\n",
       "      <th>3</th>\n",
       "      <td>Virginia</td>\n",
       "      <td>ACC</td>\n",
       "      <td>37</td>\n",
       "      <td>29</td>\n",
       "      <td>119.9</td>\n",
       "      <td>91.0</td>\n",
       "      <td>0.9600</td>\n",
       "      <td>54.8</td>\n",
       "      <td>48.4</td>\n",
       "      <td>15.1</td>\n",
       "      <td>...</td>\n",
       "      <td>33.4</td>\n",
       "      <td>52.6</td>\n",
       "      <td>46.3</td>\n",
       "      <td>40.3</td>\n",
       "      <td>34.7</td>\n",
       "      <td>61.9</td>\n",
       "      <td>8.6</td>\n",
       "      <td>E8</td>\n",
       "      <td>1.0</td>\n",
       "      <td>2016</td>\n",
       "    </tr>\n",
       "    <tr>\n",
       "      <th>4</th>\n",
       "      <td>Kansas</td>\n",
       "      <td>B12</td>\n",
       "      <td>37</td>\n",
       "      <td>32</td>\n",
       "      <td>120.9</td>\n",
       "      <td>90.4</td>\n",
       "      <td>0.9662</td>\n",
       "      <td>55.7</td>\n",
       "      <td>45.1</td>\n",
       "      <td>17.8</td>\n",
       "      <td>...</td>\n",
       "      <td>37.3</td>\n",
       "      <td>52.7</td>\n",
       "      <td>43.4</td>\n",
       "      <td>41.3</td>\n",
       "      <td>32.5</td>\n",
       "      <td>70.1</td>\n",
       "      <td>11.6</td>\n",
       "      <td>E8</td>\n",
       "      <td>1.0</td>\n",
       "      <td>2016</td>\n",
       "    </tr>\n",
       "  </tbody>\n",
       "</table>\n",
       "<p>5 rows × 24 columns</p>\n",
       "</div>"
      ],
      "text/plain": [
       "             TEAM CONF   G   W  ADJOE  ADJDE  BARTHAG  EFG_O  EFG_D   TOR  \\\n",
       "0  North Carolina  ACC  40  33  123.3   94.9   0.9531   52.6   48.1  15.4   \n",
       "1       Villanova   BE  40  35  123.1   90.9   0.9703   56.1   46.7  16.3   \n",
       "2      Notre Dame  ACC  36  24  118.3  103.3   0.8269   54.0   49.5  15.3   \n",
       "3        Virginia  ACC  37  29  119.9   91.0   0.9600   54.8   48.4  15.1   \n",
       "4          Kansas  B12  37  32  120.9   90.4   0.9662   55.7   45.1  17.8   \n",
       "\n",
       "   ...  FTRD  2P_O  2P_D  3P_O  3P_D  ADJ_T   WAB  POSTSEASON  SEED  YEAR  \n",
       "0  ...  30.4  53.9  44.6  32.7  36.2   71.7   8.6         2ND   1.0  2016  \n",
       "1  ...  30.0  57.4  44.1  36.2  33.9   66.7   8.9   Champions   2.0  2016  \n",
       "2  ...  26.0  52.9  46.5  37.4  36.9   65.5   2.3          E8   6.0  2016  \n",
       "3  ...  33.4  52.6  46.3  40.3  34.7   61.9   8.6          E8   1.0  2016  \n",
       "4  ...  37.3  52.7  43.4  41.3  32.5   70.1  11.6          E8   1.0  2016  \n",
       "\n",
       "[5 rows x 24 columns]"
      ]
     },
     "execution_count": 123,
     "metadata": {},
     "output_type": "execute_result"
    }
   ],
   "source": [
    "test_df = pd.read_csv('https://s3-api.us-geo.objectstorage.softlayer.net/cf-courses-data/CognitiveClass/ML0120ENv3/Dataset/ML0101EN_EDX_skill_up/basketball_train.csv',error_bad_lines=False)\n",
    "test_df.head()"
   ]
  },
  {
   "cell_type": "code",
   "execution_count": 124,
   "metadata": {
    "tags": []
   },
   "outputs": [
    {
     "data": {
      "text/plain": [
       "array([[-4.08e-01, -1.10e+00,  3.37e-01,  2.66e+00, -2.47e+00,  2.14e-01,\n",
       "         9.44e-01, -1.19e+00, -1.64e+00,  1.45e-02,  1.30e+00, -6.24e-01,\n",
       "        -9.32e-01,  1.43e-01,  1.69e-01,  2.85e-01,  1.63e+00, -8.37e-01,\n",
       "        -9.99e-01,  4.84e-01, -6.77e-01],\n",
       "       [ 3.64e-01,  3.26e-01,  7.03e-01, -7.14e-01,  1.07e+00,  4.83e-01,\n",
       "         4.77e-01, -1.33e+00, -6.86e-02, -7.35e-01, -1.35e+00, -8.07e-01,\n",
       "         3.42e-01,  4.97e-02,  9.41e-02,  1.37e+00,  6.94e-01, -2.01e+00,\n",
       "         9.81e-01, -1.19e+00,  1.48e+00],\n",
       "       [ 3.64e-01,  1.18e+00,  9.32e-01, -8.79e-01,  1.24e+00,  7.85e-01,\n",
       "        -9.22e-01,  5.28e-01, -1.87e-01, -1.19e-01, -3.18e-01,  6.82e-01,\n",
       "         1.01e+00,  8.07e-02, -9.91e-01,  1.75e+00, -2.39e-01,  6.61e-01,\n",
       "         1.92e+00, -1.19e+00,  1.48e+00],\n",
       "       [ 3.64e-01,  6.12e-01,  3.60e-01,  7.15e-01, -8.92e-02, -3.58e-01,\n",
       "         6.90e-01, -6.42e-01,  4.83e-01,  3.90e-01,  6.81e-01,  1.07e+00,\n",
       "         1.01e-01,  4.97e-02,  1.92e-02, -8.41e-01,  1.33e+00,  3.03e-01,\n",
       "         3.84e-01, -1.19e+00, -6.77e-01],\n",
       "       [ 3.64e-01, -1.39e+00, -1.13e+00,  3.92e-04, -9.04e-01, -1.13e+00,\n",
       "         1.09e-02,  7.34e-01,  5.61e-01,  2.29e-01,  2.52e+00, -5.07e-02,\n",
       "        -5.88e-01, -1.63e+00,  7.67e-01, -2.41e-01, -1.00e+00, -8.37e-01,\n",
       "        -1.82e+00,  1.83e+00, -6.77e-01]])"
      ]
     },
     "execution_count": 124,
     "metadata": {},
     "output_type": "execute_result"
    }
   ],
   "source": [
    "test_df['windex'] = np.where(test_df.WAB > 7, 'True', 'False')\n",
    "test_df1 = test_df[test_df['POSTSEASON'].str.contains('F4|S16|E8', na=False)]\n",
    "test_Feature = test_df1[['G', 'W', 'ADJOE', 'ADJDE', 'BARTHAG', 'EFG_O', 'EFG_D',\n",
    "       'TOR', 'TORD', 'ORB', 'DRB', 'FTR', 'FTRD', '2P_O', '2P_D', '3P_O',\n",
    "       '3P_D', 'ADJ_T', 'WAB', 'SEED', 'windex']]\n",
    "test_Feature['windex'].replace(to_replace=['False','True'], value=[0,1],inplace=True)\n",
    "test_X=test_Feature\n",
    "test_X= preprocessing.StandardScaler().fit(test_X).transform(test_X)\n",
    "test_X[0:5]"
   ]
  },
  {
   "cell_type": "code",
   "execution_count": 125,
   "metadata": {
    "tags": []
   },
   "outputs": [
    {
     "data": {
      "text/plain": [
       "array(['E8', 'E8', 'E8', 'E8', 'F4'], dtype=object)"
      ]
     },
     "execution_count": 125,
     "metadata": {},
     "output_type": "execute_result"
    }
   ],
   "source": [
    "test_y = test_df1['POSTSEASON'].values\n",
    "test_y[0:5]"
   ]
  },
  {
   "cell_type": "markdown",
   "metadata": {},
   "source": [
    "KNN\n"
   ]
  },
  {
   "cell_type": "code",
   "execution_count": 126,
   "metadata": {
    "tags": []
   },
   "outputs": [
    {
     "name": "stdout",
     "output_type": "stream",
     "text": [
      "k=5\n",
      "Test set Accuracy:  0.6285714285714286\n",
      "F1: 0.6285714285714286\n",
      "Jaccard: 0.4583333333333333\n"
     ]
    }
   ],
   "source": [
    "# the 'neigh' object is the model from the training at the beginning\n",
    "# newknyhat is the prediction from the new data set\n",
    "newknnyhat = neigh.predict(test_X)\n",
    "print(\"k=5\")\n",
    "# This is the accuracy of the existing model on the new data set\n",
    "# The accuracy on the test part of the split for the first model wes .66666\n",
    "print(\"Test set Accuracy: \", accuracy_score(test_y, newknnyhat))\n",
    "print(f\"F1: {f1_score(newknnyhat, test_y, average='micro')}\")\n",
    "print(f\"Jaccard: {jaccard_index(newknnyhat, test_y)}\")\n"
   ]
  },
  {
   "cell_type": "markdown",
   "metadata": {},
   "source": [
    "Decision Tree\n"
   ]
  },
  {
   "cell_type": "code",
   "execution_count": 127,
   "metadata": {
    "tags": []
   },
   "outputs": [
    {
     "name": "stdout",
     "output_type": "stream",
     "text": [
      "DecisionTrees's Accuracy at max_depth=2:  0.6571428571428571\n",
      "F1: 0.6571428571428571\n",
      "Jaccard: 0.48936170212765956\n"
     ]
    }
   ],
   "source": [
    "# Max Depth = 2\n",
    "newPredTree = teamtree.predict(test_X)\n",
    "print(f\"DecisionTrees's Accuracy at max_depth=2:  {accuracy_score(test_y, newPredTree)}\")\n",
    "print(f\"F1: {f1_score(newPredTree, test_y,average='micro')}\")\n",
    "print(f\"Jaccard: {jaccard_index(newPredTree, test_y)}\")"
   ]
  },
  {
   "cell_type": "markdown",
   "metadata": {},
   "source": [
    "SVM\n"
   ]
  },
  {
   "cell_type": "code",
   "execution_count": 128,
   "metadata": {
    "tags": []
   },
   "outputs": [
    {
     "name": "stdout",
     "output_type": "stream",
     "text": [
      "Sigmoid\n",
      "Test set Accuracy:  0.6\n",
      "F1: 0.6\n",
      "Jaccard: 0.42857142857142855\n"
     ]
    }
   ],
   "source": [
    "newsvmyhat = clf.predict(test_X)\n",
    "print(\"Sigmoid\")\n",
    "# This is the accuracy of the existing model on the new data set\n",
    "# The accuracy on the test part of the split for the first model wes .66666\n",
    "print(\"Test set Accuracy: \", accuracy_score(test_y, newsvmyhat))\n",
    "print(f\"F1: {f1_score(newsvmyhat, test_y, average='micro')}\")\n",
    "print(f\"Jaccard: {jaccard_index(newsvmyhat, test_y)}\")"
   ]
  },
  {
   "cell_type": "markdown",
   "metadata": {},
   "source": [
    "Logistic Regression\n"
   ]
  },
  {
   "cell_type": "code",
   "execution_count": 129,
   "metadata": {},
   "outputs": [
    {
     "name": "stdout",
     "output_type": "stream",
     "text": [
      "LR F1 Score 0.6857142857142857\n",
      "Jaccard: 0.5217391304347826\n"
     ]
    }
   ],
   "source": [
    "newlryhat = LR.predict(test_X)\n",
    "newlrf1score = f1_score(test_y, newlryhat, average='micro')\n",
    "print(\"LR F1 Score\",newlrf1score)\n",
    "print(f\"Jaccard: {jaccard_index(newlryhat, test_y)}\")"
   ]
  },
  {
   "cell_type": "markdown",
   "metadata": {},
   "source": [
    "# Report\n",
    "You should be able to report the accuracy of the built model using different evaluation metrics:\n"
   ]
  },
  {
   "cell_type": "markdown",
   "metadata": {},
   "source": [
    "| Algorithm          | Accuracy | Jaccard  | F1-score  | LogLoss |\n",
    "|--------------------|----------|----------|-----------|---------|\n",
    "| KNN                |     ?    |     ?    |     ?     | NA      |\n",
    "| Decision Tree      |     ?    |     ?    |     ?     | NA      |\n",
    "| SVM                |     ?    |     ?    |     ?     | NA      |\n",
    "| LogisticRegression |     ?    |     ?    |     ?     |     ?   |\n"
   ]
  },
  {
   "cell_type": "markdown",
   "metadata": {},
   "source": [
    "Something to keep in mind when creating models to predict the results of basketball tournaments or sports in general is that is quite hard due to so many factors influencing the game. Even in sports betting an accuracy of 55% and over is considered good as it indicates profits.\n"
   ]
  },
  {
   "cell_type": "markdown",
   "metadata": {
    "button": false,
    "new_sheet": false,
    "run_control": {
     "read_only": false
    }
   },
   "source": [
    "<h2>Want to learn more?</h2>\n",
    "\n",
    "IBM SPSS Modeler is a comprehensive analytics platform that has many machine learning algorithms. It has been designed to bring predictive intelligence to decisions made by individuals, by groups, by systems – by your enterprise as a whole. A free trial is available through this course, available here: <a href=\"https://www.ibm.com/analytics/spss-statistics-software?utm_source=Exinfluencer&utm_content=000026UJ&utm_id=NA-SkillsNetwork-Channel-SkillsNetworkCoursesIBMDeveloperSkillsNetworkML0101ENSkillsNetwork1047-2023-01-01&utm_medium=Exinfluencer&utm_term=10006555\">SPSS Modeler</a>\n",
    "\n",
    "Also, you can use Watson Studio to run these notebooks faster with bigger datasets. Watson Studio is IBM's leading cloud solution for data scientists, built by data scientists. With Jupyter notebooks, RStudio, Apache Spark and popular libraries pre-packaged in the cloud, Watson Studio enables data scientists to collaborate on their projects without having to install anything. Join the fast-growing community of Watson Studio users today with a free account at <a href=\"https://www.ibm.com/cloud/watson-studio?utm_source=Exinfluencer&utm_content=000026UJ&utm_id=NA-SkillsNetwork-Channel-SkillsNetworkCoursesIBMDeveloperSkillsNetworkML0101ENSkillsNetwork1047-2023-01-01&utm_medium=Exinfluencer&utm_term=10006555\">Watson Studio</a>\n",
    "\n"
   ]
  },
  {
   "cell_type": "markdown",
   "metadata": {},
   "source": [
    "### Thank you for completing this lab!\n",
    "\n",
    "\n",
    "## Author\n",
    "\n",
    "Saeed Aghabozorgi\n",
    "\n",
    "\n",
    "### Other Contributors\n",
    "\n",
    "<a href=\"https://www.linkedin.com/in/joseph-s-50398b136/?utm_medium=Exinfluencer&utm_source=Exinfluencer&utm_content=000026UJ&utm_term=10006555&utm_id=NA-SkillsNetwork-Channel-SkillsNetworkCoursesIBMDeveloperSkillsNetworkML0101ENSkillsNetwork1047-2023-01-01\">Joseph Santarcangelo</a>\n",
    "\n",
    "\n",
    "\n",
    "\n",
    "## Change Log\n",
    "\n",
    "\n",
    "|  Date (YYYY-MM-DD) |  Version | Changed By  |  Change Description |\n",
    "|---|---|---|---|\n",
    "|2021-04-03   | 2.1  | Malika Singla| Updated the Report accuracy |\n",
    "| 2020-08-27  | 2.0  | Lavanya  |  Moved lab to course repo in GitLab |\n",
    "|   |   |   |   |\n",
    "|   |   |   |   |\n",
    "\n",
    "\n",
    "## <h3 align=\"center\"> © IBM Corporation 2020. All rights reserved. <h3/>\n"
   ]
  }
 ],
 "metadata": {
  "kernelspec": {
   "display_name": "Python",
   "language": "python",
   "name": "conda-env-python-py"
  },
  "language_info": {
   "codemirror_mode": {
    "name": "ipython",
    "version": 3
   },
   "file_extension": ".py",
   "mimetype": "text/x-python",
   "name": "python",
   "nbconvert_exporter": "python",
   "pygments_lexer": "ipython3",
   "version": "3.7.12"
  }
 },
 "nbformat": 4,
 "nbformat_minor": 4
}
